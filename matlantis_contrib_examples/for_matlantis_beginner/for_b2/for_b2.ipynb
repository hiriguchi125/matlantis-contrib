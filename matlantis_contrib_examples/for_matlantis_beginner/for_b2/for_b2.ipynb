{
 "cells": [
  {
   "cell_type": "markdown",
   "id": "3ae9e582-cf9a-4f9b-92b3-e2f5c5362663",
   "metadata": {},
   "source": [
    "Copyright ENEOS corporation as contributors to Matlantis contrib project"
   ]
  },
  {
   "cell_type": "markdown",
   "id": "fc02a65d-39fb-430c-adb9-ca4f597e9967",
   "metadata": {},
   "source": [
    "#  Notebook２_触媒表面での計算"
   ]
  },
  {
   "cell_type": "markdown",
   "id": "fc2d50ea-c04b-4493-be57-f3014b696d06",
   "metadata": {},
   "source": [
    "# 目次\n",
    "\n",
    "[必要なモジュールの読み込み](#必要なモジュールの読み込み)  \n",
    "[吸着構造の計算](#吸着構造の計算)  \n",
    "[復習：分子の読み込みとエネルギー計算](#復習：分子の読み込みとエネルギー計算)  \n",
    "[結晶表面モデルの作成](#結晶表面モデルの作成)  \n",
    "[①バルクの作成](#①バルクの作成)  \n",
    "[Tips : Constraintについて](#Tips-:-Constraintについて)  \n",
    "[②スラブの作成](#②スラブの作成)  \n",
    "[③反応分子の配置](#③反応分子の配置)  \n",
    "[吸着エネルギーの計算](#吸着エネルギーの計算)  \n",
    "[Tips : Atomsオブジェクトについて](#tips-:-atomsオブジェクトについて)"
   ]
  },
  {
   "cell_type": "markdown",
   "id": "bf10d9b4-d323-414b-88d1-ca82ee5bf848",
   "metadata": {},
   "source": [
    "## 必要なモジュールの読み込み\n",
    "※notebook1で使用済のモジュールはここでimport  \n",
    "　新規に使用するモジュールは適宜importします"
   ]
  },
  {
   "cell_type": "code",
   "execution_count": 1,
   "id": "a7f83590-a1a3-4804-b7c8-f2ebbe04097b",
   "metadata": {},
   "outputs": [],
   "source": [
    "from pfp_api_client.pfp.calculators.ase_calculator import ASECalculator\n",
    "from pfp_api_client.pfp.estimator import Estimator\n",
    "estimator = Estimator(model_version='v2.0.0') #version指定を推奨\n",
    "calculator = ASECalculator(estimator)\n",
    "\n",
    "import ase\n",
    "from ase.visualize import view\n",
    "from ase.build import surface, molecule\n",
    "from ase.optimize import BFGS\n",
    "\n",
    "import pathlib\n",
    "import os\n",
    "os.makedirs(\"output/\", exist_ok=True)"
   ]
  },
  {
   "cell_type": "markdown",
   "id": "f817e12b-a85f-461b-a39e-463cb5ccc579",
   "metadata": {},
   "source": [
    "# 吸着構造の計算  \n",
    "吸着エネルギーや界面での反応を見たい場合にはスラブモデルが有効です。  \n",
    "ここではPt(111)面上のCO吸着モデルの作成、CO吸着エネルギーの算出を目標に進めます。  \n",
    "吸着エネルギーE(ads)は以下のエネルギーから求めます。  \n",
    "`E(ads) = E(slab) + E(co) - E(co_on_slab)`  \n",
    "必要な構造は以下の3つです。  \n",
    "(1)CO分子単体(2)Ptスラブのみ(3)COがPtスラブに吸着したモデル  \n",
    "本ノートブックでは(1)-(3)のモデルを順に作成し、計算を行います。  "
   ]
  },
  {
   "cell_type": "markdown",
   "id": "895e9062-4c4f-46f9-9c1a-74e6ed897bff",
   "metadata": {},
   "source": [
    "# 復習：分子の読み込みとエネルギー計算\n",
    "まずCO分子単体の計算を行います。"
   ]
  },
  {
   "cell_type": "code",
   "execution_count": 2,
   "id": "88f836fe-3887-4012-b1b7-68491de67277",
   "metadata": {},
   "outputs": [
    {
     "name": "stdout",
     "output_type": "stream",
     "text": [
      "      Step     Time          Energy         fmax\n",
      "BFGS:    0 00:49:51      -11.481743        0.7964\n",
      "BFGS:    1 00:49:51      -11.470749        1.8432\n",
      "BFGS:    2 00:49:51      -11.484685        0.0505\n",
      "BFGS:    3 00:49:52      -11.484686        0.0031\n"
     ]
    },
    {
     "data": {
      "application/vnd.jupyter.widget-view+json": {
       "model_id": "e8f460b7460849a29777880877d312df",
       "version_major": 2,
       "version_minor": 0
      },
      "text/plain": []
     },
     "metadata": {},
     "output_type": "display_data"
    },
    {
     "data": {
      "application/vnd.jupyter.widget-view+json": {
       "model_id": "3d5568af043b41778aebb94f2d08d590",
       "version_major": 2,
       "version_minor": 0
      },
      "text/plain": [
       "HBox(children=(NGLWidget(), VBox(children=(Dropdown(description='Show', options=('All', 'C', 'O'), value='All'…"
      ]
     },
     "metadata": {},
     "output_type": "display_data"
    }
   ],
   "source": [
    "mol_CO = molecule(\"CO\")\n",
    "mol_CO.set_calculator(calculator)\n",
    "mol_CO.pbc = False\n",
    "opt = BFGS(mol_CO)\n",
    "opt.run(fmax=0.01,steps=500)\n",
    "v = view(mol_CO, viewer='ngl')\n",
    "v.view.add_representation(\"ball+stick\")\n",
    "display(v)"
   ]
  },
  {
   "cell_type": "markdown",
   "id": "f8f5d3bc-0497-4376-821b-6f065b751ab0",
   "metadata": {},
   "source": [
    "# 結晶表面モデルの作成\n",
    "\n",
    "ここからが本題です。結晶表面モデルは  \n",
    "**①バルク最適化**  \n",
    "**②面の切り出しと真空層の決定、ユニットセル・原子の固定**  \n",
    "**③反応分子の配置**   \n",
    "といった手順で作成します。"
   ]
  },
  {
   "cell_type": "markdown",
   "id": "ba01bb2b-82f9-4cd1-8fd3-f7689bfe549f",
   "metadata": {},
   "source": [
    "## ①バルクの作成\n",
    "まずMaterial Project( https://materialsproject.org/materials/mp-126/ )よりfcc-Ptのcif(結晶構造)ファイル(Pt_mp-126_conventional_standard.cif)をダウンロードし、inputフォルダに置きます。  \n",
    "計算手法によって安定な格子定数が変化するため、はじめに格子定数の最適化を行います。  \n",
    "ここでは、元の構造の対称性を保持する`FixSymmetry`を拘束条件として設定し、セルパラメータを含めた最適化を行うため、`UnitCellFiter`を用います。"
   ]
  },
  {
   "cell_type": "code",
   "execution_count": 3,
   "id": "81d16ea0-4403-4059-b409-8cbed8d896fe",
   "metadata": {},
   "outputs": [
    {
     "name": "stderr",
     "output_type": "stream",
     "text": [
      "/home/jovyan/.local/lib/python3.7/site-packages/ase/utils/__init__.py:62: FutureWarning: Please use atoms.cell.cellpar() instead\n",
      "  warnings.warn(warning)\n"
     ]
    },
    {
     "name": "stdout",
     "output_type": "stream",
     "text": [
      "[ 3.97677  3.97677  3.97677 90.      90.      90.     ]\n",
      "      Step     Time          Energy         fmax\n",
      "BFGS:    0 00:50:07      -21.807936        0.1512\n",
      "BFGS:    1 00:50:08      -21.808818        0.1190\n",
      "BFGS:    2 00:50:08      -21.810196        0.0051\n",
      "[ 3.96667761  3.96667761  3.96667761 90.         90.         90.        ]\n"
     ]
    }
   ],
   "source": [
    "from ase.constraints import UnitCellFilter, FixAtoms\n",
    "from ase.spacegroup.symmetrize import FixSymmetry\n",
    "\n",
    "bulk = ase.io.read(\"input/Pt_mp-126_conventional_standard.cif\")\n",
    "print(bulk.get_cell_lengths_and_angles())                    #構造緩和前の格子定数を確認\n",
    "bulk.set_calculator(calculator)\n",
    "bulk.set_constraint([FixSymmetry(bulk, adjust_cell=True,\n",
    "                                    adjust_positions=True)]) #対称性を保ちながら原子座標、セルの大きさ両方を最適化\n",
    "ucf = UnitCellFilter(bulk)\n",
    "opt = BFGS(ucf)                                              #ucfを適用したPt_bulkを構造緩和\n",
    "opt.run(fmax=0.01,steps=500)\n",
    "bulk.wrap                                                    #原子がセル内に入るように再処理 \n",
    "print(bulk.get_cell_lengths_and_angles())                    #構造緩和後の格子定数を確認\n",
    "bulk.translate(-0.3)                                          #原子の座標を調整し、表面をきれいに出せるようにする"
   ]
  },
  {
   "cell_type": "markdown",
   "id": "b00f3e94-83a6-485e-a7f9-69a86368d78f",
   "metadata": {},
   "source": [
    "# Tips : Constraintについて\n",
    "Constraintは構造に加える制約条件で、上記で設定した`FixSymmetry`以外にも`FixAtom`(原子座標を固定)など、複数の手法が用意されています。\n",
    "Constraintの解除は以下のように行います。"
   ]
  },
  {
   "cell_type": "code",
   "execution_count": 4,
   "id": "859fcc91-0c11-4414-b273-12f71195802f",
   "metadata": {},
   "outputs": [],
   "source": [
    "bulk.set_constraint() #スラブ作成に必要な操作です。必ず実行してください。"
   ]
  },
  {
   "cell_type": "markdown",
   "id": "72bda5a3-5b4d-444e-95be-199b9774e61b",
   "metadata": {},
   "source": [
    "この操作を行わない限り、構造をcopyなどした際にもconstraintが残るため、意図しない制約を加えてしまうことがあるので注意してください。"
   ]
  },
  {
   "cell_type": "markdown",
   "id": "c1c0bb44-606d-4aa4-ade4-a4eae8e27a3a",
   "metadata": {},
   "source": [
    "## ②スラブの作成\n",
    "ASEでは表面の切り出しを簡単に行うことができます。  \n",
    "Pt(111)は以下のように面を切り出すことができます。"
   ]
  },
  {
   "cell_type": "code",
   "execution_count": 5,
   "id": "58b0b93c-6cc9-4888-bb68-a3d4790c35b6",
   "metadata": {},
   "outputs": [
    {
     "data": {
      "application/vnd.jupyter.widget-view+json": {
       "model_id": "228e9e329d634ad8b492425cb7038a48",
       "version_major": 2,
       "version_minor": 0
      },
      "text/plain": [
       "HBox(children=(NGLWidget(), VBox(children=(Dropdown(description='Show', options=('All', 'Pt'), value='All'), D…"
      ]
     },
     "metadata": {},
     "output_type": "display_data"
    }
   ],
   "source": [
    "bulk.set_positions(bulk.get_positions()-[0.5,0.5,0.5])      #少し座標をずらすことで綺麗に面切り出し可能\n",
    "slab = surface(bulk,indices=(1,1,1),                        #切り出す面を指定\n",
    "                         layers=4, vacuum=5, periodic=True) #真空層を表面の上下に5Åずつ設定           \n",
    "slab = slab.repeat([2,2,1])                                 #4*4の面を作成\n",
    "display(view(slab, viewer=\"ngl\"))"
   ]
  },
  {
   "cell_type": "markdown",
   "id": "05e905c2-5ef3-48db-abc7-f49e55ea979a",
   "metadata": {},
   "source": [
    "作成したスラブは保存し、分子吸着用の変数にコピーします。"
   ]
  },
  {
   "cell_type": "code",
   "execution_count": 6,
   "id": "4d0fcb22-edd0-4ff7-9fbe-32a47a0f7035",
   "metadata": {},
   "outputs": [],
   "source": [
    "ase.io.write(\"output/PtSlab.json\", slab) #作成したslabを保存\n",
    "mol_on_slab = slab.copy() #分子吸着用の別の変数を作成"
   ]
  },
  {
   "cell_type": "markdown",
   "id": "174f0995-fe13-4d7e-bd7e-b11b676fb629",
   "metadata": {},
   "source": [
    "### 分子の移動・追加・削除\n",
    "先ほど作成したスラブをセル下部に移動します。"
   ]
  },
  {
   "cell_type": "code",
   "execution_count": 7,
   "id": "a809605b-2b55-4b36-9586-4d964728ccb9",
   "metadata": {},
   "outputs": [
    {
     "data": {
      "application/vnd.jupyter.widget-view+json": {
       "model_id": "c6f5e00527f54a72a90e79af0e6923b9",
       "version_major": 2,
       "version_minor": 0
      },
      "text/plain": [
       "HBox(children=(NGLWidget(), VBox(children=(Dropdown(description='Show', options=('All', 'Pt'), value='All'), D…"
      ]
     },
     "metadata": {},
     "output_type": "display_data"
    }
   ],
   "source": [
    "for atom in mol_on_slab:\n",
    "    atom.z -= 5 #slabをセル下部に配置するため全原子のz座標を移動\n",
    "display(view(mol_on_slab, viewer=\"ngl\"))"
   ]
  },
  {
   "cell_type": "markdown",
   "id": "c57e36d1-a553-48c1-93a2-81dee16ee762",
   "metadata": {},
   "source": [
    "作成したスラブ上部にH2分子を追加します。"
   ]
  },
  {
   "cell_type": "code",
   "execution_count": 8,
   "id": "faa1c5d3-0cad-4622-9504-c81b6a69916e",
   "metadata": {
    "tags": []
   },
   "outputs": [
    {
     "data": {
      "application/vnd.jupyter.widget-view+json": {
       "model_id": "b0dfb5091fea43d6b1cd15cbf0931fb7",
       "version_major": 2,
       "version_minor": 0
      },
      "text/plain": [
       "HBox(children=(NGLWidget(), VBox(children=(Dropdown(description='Show', options=('All', 'Pt', 'H'), value='All…"
      ]
     },
     "metadata": {},
     "output_type": "display_data"
    }
   ],
   "source": [
    "from ase.build import molecule, add_adsorbate\n",
    "add_adsorbate(mol_on_slab, molecule('H2'), height=2.0, position=[8,4]) #分子の追加\n",
    "display(view(mol_on_slab, viewer=\"ngl\"))"
   ]
  },
  {
   "cell_type": "markdown",
   "id": "dbc88497-7887-4adb-8090-1c8dc3c4c8a7",
   "metadata": {},
   "source": [
    "削除は配列の要素番号を指定して行うことができます。"
   ]
  },
  {
   "cell_type": "code",
   "execution_count": 9,
   "id": "8b6ce5e6-b5de-417d-91a4-a4f6b27e6de1",
   "metadata": {},
   "outputs": [],
   "source": [
    "del mol_on_slab[-2:] #インデックスの最後から2原子(ここではH2)を指定して削除"
   ]
  },
  {
   "cell_type": "markdown",
   "id": "3cb88815-4843-443e-99cf-489ecdd9f775",
   "metadata": {},
   "source": [
    "他にも分子の編集には様々なメソッドが用意されているので、必要に応じてASEドキュメントを参照してください。"
   ]
  },
  {
   "cell_type": "markdown",
   "id": "d237f7ed-c51c-46da-821b-d11d455b287c",
   "metadata": {},
   "source": [
    "## ③反応分子の配置\n",
    "H2の場合と同様にCOをPtスラブモデルに追加し、編集を行います。"
   ]
  },
  {
   "cell_type": "code",
   "execution_count": 10,
   "id": "c3a3a934-a669-4793-b3cb-43bf1dcfe7c7",
   "metadata": {},
   "outputs": [
    {
     "data": {
      "application/vnd.jupyter.widget-view+json": {
       "model_id": "5807ed323c6c4febbb2fc5619b2f4d0f",
       "version_major": 2,
       "version_minor": 0
      },
      "text/plain": [
       "HBox(children=(NGLWidget(), VBox(children=(Dropdown(description='Show', options=('All', 'Pt', 'C', 'O'), value…"
      ]
     },
     "metadata": {},
     "output_type": "display_data"
    }
   ],
   "source": [
    "add_adsorbate(mol_on_slab, molecule('CO'), height=3.0, position=[8,4]) #分子の追加\n",
    "display(view(mol_on_slab, viewer=\"ngl\"))"
   ]
  },
  {
   "cell_type": "markdown",
   "id": "d607187f-5547-486c-b127-0b85ba5d098f",
   "metadata": {},
   "source": [
    "被覆率が低い場合ではCOはPt(111)のtop-siteに吸着することが実験的に知られています[1]。\n",
    "[1] https://pubs.acs.org/doi/10.1021/jp002302t\n",
    "\n",
    "今回は先行研究に倣いCO分子をtop-siteに近づけた初期構造を作成し、最適化を行うこととします。"
   ]
  },
  {
   "cell_type": "code",
   "execution_count": 11,
   "id": "b46b737c-8eee-4359-920a-d931b50b9811",
   "metadata": {},
   "outputs": [],
   "source": [
    "for i in [-2,-1]:                  # CO分子をhcpサイト付近に移動\n",
    "    mol_on_slab[i].position += [0.5,-0.5,0]    # CO分子をx方向に0.5Å,y方向に-0.5Å移動"
   ]
  },
  {
   "cell_type": "markdown",
   "id": "25951efe-bdf8-41b4-8269-fac92b155fa6",
   "metadata": {},
   "source": [
    "可視化しながらCO分子の位置を確認し、COを平行移動して吸着位置を調整してください。"
   ]
  },
  {
   "cell_type": "code",
   "execution_count": 12,
   "id": "89382ca5-9bd3-467a-9136-abce683ed7d5",
   "metadata": {},
   "outputs": [
    {
     "data": {
      "application/vnd.jupyter.widget-view+json": {
       "model_id": "8be604d9a54642039f0502d9cef35593",
       "version_major": 2,
       "version_minor": 0
      },
      "text/plain": [
       "HBox(children=(NGLWidget(), VBox(children=(Dropdown(description='Show', options=('All', 'Pt', 'C', 'O'), value…"
      ]
     },
     "metadata": {},
     "output_type": "display_data"
    }
   ],
   "source": [
    "display(view(mol_on_slab, viewer=\"ngl\"))"
   ]
  },
  {
   "cell_type": "markdown",
   "id": "0dcf226b-534a-42ab-bc42-f12a1613e71e",
   "metadata": {},
   "source": [
    "下から2層を固定して構造最適化を行います。\n",
    "後程の吸着エネルギー計算のためにPtスラブのみでも同様の条件で最適化を行ってください。"
   ]
  },
  {
   "cell_type": "code",
   "execution_count": 13,
   "id": "342b0973-e33f-4dc6-8c2c-3b0556e89d58",
   "metadata": {},
   "outputs": [
    {
     "name": "stdout",
     "output_type": "stream",
     "text": [
      "      Step     Time          Energy         fmax\n",
      "BFGS:    0 00:51:12     -342.453406        0.9872\n",
      "BFGS:    1 00:51:12     -342.475166        2.0914\n",
      "BFGS:    2 00:51:12     -342.529088        1.1144\n",
      "BFGS:    3 00:51:13     -342.567648        0.7216\n",
      "BFGS:    4 00:51:13     -342.581965        0.6458\n",
      "BFGS:    5 00:51:13     -342.601582        0.2482\n",
      "BFGS:    6 00:51:14     -342.610766        0.4052\n",
      "BFGS:    7 00:51:14     -342.621690        0.4669\n",
      "BFGS:    8 00:51:14     -342.628140        0.3280\n",
      "BFGS:    9 00:51:14     -342.632806        0.1536\n",
      "BFGS:   10 00:51:15     -342.636879        0.2641\n",
      "BFGS:   11 00:51:15     -342.643016        0.3977\n",
      "BFGS:   12 00:51:15     -342.649754        0.3845\n",
      "BFGS:   13 00:51:15     -342.654202        0.2089\n",
      "BFGS:   14 00:51:16     -342.656590        0.0904\n",
      "BFGS:   15 00:51:16     -342.658427        0.1418\n",
      "BFGS:   16 00:51:16     -342.659870        0.1477\n",
      "BFGS:   17 00:51:17     -342.660783        0.0956\n",
      "BFGS:   18 00:51:17     -342.661268        0.0466\n",
      "BFGS:   19 00:51:17     -342.661635        0.0679\n",
      "BFGS:   20 00:51:17     -342.662115        0.0994\n",
      "BFGS:   21 00:51:18     -342.662605        0.0852\n",
      "BFGS:   22 00:51:18     -342.662934        0.0371\n",
      "BFGS:   23 00:51:18     -342.663097        0.0385\n",
      "BFGS:   24 00:51:19     -342.663283        0.0641\n",
      "BFGS:   25 00:51:19     -342.663518        0.0782\n",
      "BFGS:   26 00:51:19     -342.663827        0.0657\n",
      "BFGS:   27 00:51:19     -342.664117        0.0356\n",
      "BFGS:   28 00:51:20     -342.664433        0.0431\n",
      "BFGS:   29 00:51:20     -342.664885        0.0832\n",
      "BFGS:   30 00:51:20     -342.665535        0.1088\n",
      "BFGS:   31 00:51:20     -342.666318        0.0888\n",
      "BFGS:   32 00:51:21     -342.667031        0.0443\n",
      "BFGS:   33 00:51:21     -342.667684        0.0484\n",
      "BFGS:   34 00:51:21     -342.668268        0.0812\n",
      "BFGS:   35 00:51:22     -342.668725        0.0767\n",
      "BFGS:   36 00:51:22     -342.669092        0.0438\n",
      "BFGS:   37 00:51:22     -342.669341        0.0239\n",
      "BFGS:   38 00:51:22     -342.669502        0.0314\n",
      "BFGS:   39 00:51:23     -342.669627        0.0344\n",
      "BFGS:   40 00:51:23     -342.669716        0.0236\n",
      "BFGS:   41 00:51:23     -342.669764        0.0119\n",
      "BFGS:   42 00:51:23     -342.669782        0.0116\n",
      "BFGS:   43 00:51:24     -342.669797        0.0176\n",
      "BFGS:   44 00:51:24     -342.669821        0.0154\n",
      "BFGS:   45 00:51:24     -342.669839        0.0072\n"
     ]
    },
    {
     "data": {
      "text/plain": [
       "True"
      ]
     },
     "execution_count": 13,
     "metadata": {},
     "output_type": "execute_result"
    }
   ],
   "source": [
    "c = FixAtoms(indices=[i for i,atom in enumerate(mol_on_slab) if  mol_on_slab[i].z < 4] ) # 条件文でスラブ下2層のPt原子を指定\n",
    "mol_on_slab.set_constraint(c)\n",
    "mol_on_slab.set_calculator(calculator)\n",
    "opt = BFGS(mol_on_slab)\n",
    "opt.run(fmax=0.01)"
   ]
  },
  {
   "cell_type": "code",
   "execution_count": 14,
   "id": "dade001a-c5c8-4c18-9c31-3275965b4102",
   "metadata": {},
   "outputs": [
    {
     "data": {
      "application/vnd.jupyter.widget-view+json": {
       "model_id": "c2dc990eb46a473698bc863f4e69dbb0",
       "version_major": 2,
       "version_minor": 0
      },
      "text/plain": [
       "HBox(children=(NGLWidget(), VBox(children=(Dropdown(description='Show', options=('All', 'Pt', 'C', 'O'), value…"
      ]
     },
     "metadata": {},
     "output_type": "display_data"
    }
   ],
   "source": [
    "display(view(mol_on_slab, viewer=\"ngl\"))"
   ]
  },
  {
   "cell_type": "code",
   "execution_count": 15,
   "id": "2a67b19b-8a00-4d2d-8b37-4b9b18b81549",
   "metadata": {},
   "outputs": [],
   "source": [
    "ase.io.write(\"output/CO_on_PtSlab.json\", mol_on_slab)"
   ]
  },
  {
   "cell_type": "code",
   "execution_count": 16,
   "id": "cc86f509-14bd-490e-97c9-6e1a8d3cc022",
   "metadata": {},
   "outputs": [
    {
     "name": "stdout",
     "output_type": "stream",
     "text": [
      "      Step     Time          Energy         fmax\n",
      "BFGS:    0 00:51:37     -329.502679        0.2172\n",
      "BFGS:    1 00:51:37     -329.530587        0.1430\n",
      "BFGS:    2 00:51:38     -329.557011        0.0521\n",
      "BFGS:    3 00:51:38     -329.558727        0.0431\n",
      "BFGS:    4 00:51:38     -329.567056        0.0421\n",
      "BFGS:    5 00:51:38     -329.571358        0.0297\n",
      "BFGS:    6 00:51:39     -329.572781        0.0130\n",
      "BFGS:    7 00:51:39     -329.572934        0.0022\n"
     ]
    },
    {
     "data": {
      "text/plain": [
       "True"
      ]
     },
     "execution_count": 16,
     "metadata": {},
     "output_type": "execute_result"
    }
   ],
   "source": [
    "## Pt_slabのみの最適化\n",
    "c = FixAtoms(indices=[i for i,atom in enumerate(slab) if  slab[i].z < 4] ) # 条件文でスラブ下2層を指定\n",
    "slab.set_constraint(c)\n",
    "slab.set_calculator(calculator)\n",
    "opt = BFGS(slab)\n",
    "opt.run(fmax=0.01)"
   ]
  },
  {
   "cell_type": "markdown",
   "id": "0fc88d3a-e1ce-458c-9742-e7c15c7888cf",
   "metadata": {},
   "source": [
    "# 吸着エネルギーの計算\n",
    "\n",
    "最後にここまでで作成したモデルよりエネルギーを求め、吸着エネルギーを計算します。"
   ]
  },
  {
   "cell_type": "code",
   "execution_count": 17,
   "id": "bead9a91-4d29-4a7b-ad3a-0620e7a67458",
   "metadata": {},
   "outputs": [
    {
     "name": "stdout",
     "output_type": "stream",
     "text": [
      "1.612190908177979\n"
     ]
    }
   ],
   "source": [
    "slab.set_calculator(calculator)\n",
    "mol_CO.set_calculator(calculator)\n",
    "mol_on_slab.set_calculator(calculator)\n",
    "Eads = slab.get_potential_energy() + mol_CO.get_potential_energy() - mol_on_slab.get_potential_energy()\n",
    "print(Eads)"
   ]
  },
  {
   "cell_type": "markdown",
   "id": "a9904825-ce93-4b58-84ee-92df161df824",
   "metadata": {},
   "source": [
    "実験値は1.39 eV[2]ですが、吸着エネルギーが過大評価されています\n",
    "吸着エネルギー計算はDFT計算でも汎関数によって大きくずれることが知られており、確認が重要となります。\n",
    "\n",
    "[2]岩澤 康裕, 中村 潤児, 福井 賢一, 吉信 淳: \"ベーシック 表面化学\", 化学同人 (2010)\n",
    "\n",
    "補正を入れる(DFTD3など)ことで実験値により近い値を得ることができることがあるので、事前に検討を行ってください。"
   ]
  },
  {
   "cell_type": "markdown",
   "id": "38edfed4-a4de-4ca2-a16a-cd0f7350dbf5",
   "metadata": {},
   "source": [
    "# Tips : Atomsオブジェクトについて\n",
    "ここまで扱ってきた `slab`などの分子情報はASEのAtomsオブジェクトとして管理されています。  \n",
    "(1)分子の座標情報(2)Calculator(3)PBCの有無(4)セル(5)Constraint  \n",
    "といった分子シミュレーションに関わる情報が一括で管理されています。  \n",
    "これらの情報は"
   ]
  },
  {
   "cell_type": "code",
   "execution_count": 18,
   "id": "37eb7192-04dc-486d-95fb-3375bdec67b3",
   "metadata": {},
   "outputs": [
    {
     "data": {
      "text/plain": [
       "array([[ 5.60972939e+00,  3.23877865e+00,  4.97619197e+00],\n",
       "       [ 4.20729697e+00,  8.09694607e-01,  4.97619206e+00],\n",
       "       [ 2.80486460e+00,  3.23877870e+00,  4.97619214e+00],\n",
       "       [ 1.40243240e+00,  8.09694643e-01,  4.97619201e+00],\n",
       "       [ 2.80486461e+00,  1.61938934e+00,  7.29292125e+00],\n",
       "       [ 4.20729680e+00,  4.04847342e+00,  7.29292129e+00],\n",
       "       [ 5.60972936e+00,  1.61938932e+00,  7.29292129e+00],\n",
       "       [ 7.01216165e+00,  4.04847330e+00,  7.29292144e+00],\n",
       "       [ 5.60972925e+00,  5.76598446e-08,  9.57756581e+00],\n",
       "       [ 7.01216159e+00,  2.42908394e+00,  9.57756588e+00],\n",
       "       [ 2.80486466e+00, -1.46624421e-07,  9.57756589e+00],\n",
       "       [ 4.20729701e+00,  2.42908404e+00,  9.57756582e+00],\n",
       "       [ 5.60972935e+00,  3.23877881e+00,  1.18942950e+01],\n",
       "       [ 4.20729707e+00,  8.09694663e-01,  1.18942950e+01],\n",
       "       [ 2.80486459e+00,  3.23877874e+00,  1.18942951e+01],\n",
       "       [ 1.40243229e+00,  8.09694737e-01,  1.18942950e+01],\n",
       "       [ 8.41459395e+00,  8.09694679e+00,  4.97619218e+00],\n",
       "       [ 7.01216147e+00,  5.66786276e+00,  4.97619216e+00],\n",
       "       [ 5.60972940e+00,  8.09694663e+00,  4.97619204e+00],\n",
       "       [ 4.20729693e+00,  5.66786272e+00,  4.97619204e+00],\n",
       "       [ 5.60972930e+00,  6.47755749e+00,  7.29292135e+00],\n",
       "       [ 7.01216164e+00,  8.90664144e+00,  7.29292141e+00],\n",
       "       [ 8.41459392e+00,  6.47755745e+00,  7.29292101e+00],\n",
       "       [ 9.81702630e+00,  8.90664159e+00,  7.29292146e+00],\n",
       "       [ 8.41459386e+00,  4.85816798e+00,  9.57756574e+00],\n",
       "       [ 9.81702628e+00,  7.28725216e+00,  9.57756594e+00],\n",
       "       [ 5.60972929e+00,  4.85816801e+00,  9.57756577e+00],\n",
       "       [ 7.01216152e+00,  7.28725215e+00,  9.57756573e+00],\n",
       "       [ 8.41459393e+00,  8.09694685e+00,  1.18942951e+01],\n",
       "       [ 7.01216154e+00,  5.66786266e+00,  1.18942950e+01],\n",
       "       [ 5.60972927e+00,  8.09694680e+00,  1.18942950e+01],\n",
       "       [ 4.20729695e+00,  5.66786275e+00,  1.18942952e+01],\n",
       "       [ 1.12194587e+01,  3.23877870e+00,  4.97619207e+00],\n",
       "       [ 9.81702603e+00,  8.09694641e-01,  4.97619214e+00],\n",
       "       [ 8.41459388e+00,  3.23877875e+00,  4.97619210e+00],\n",
       "       [ 7.01216169e+00,  8.09694546e-01,  4.97619201e+00],\n",
       "       [ 8.41459385e+00,  1.61938941e+00,  7.29292149e+00],\n",
       "       [ 9.81702629e+00,  4.04847344e+00,  7.29292133e+00],\n",
       "       [ 1.12194585e+01,  1.61938943e+00,  7.29292129e+00],\n",
       "       [ 1.26218908e+01,  4.04847331e+00,  7.29292130e+00],\n",
       "       [ 1.12194586e+01, -1.14116866e-08,  9.57756592e+00],\n",
       "       [ 1.26218908e+01,  2.42908410e+00,  9.57756588e+00],\n",
       "       [ 8.41459400e+00, -9.38009383e-08,  9.57756595e+00],\n",
       "       [ 9.81702621e+00,  2.42908388e+00,  9.57756591e+00],\n",
       "       [ 1.12194586e+01,  3.23877863e+00,  1.18942951e+01],\n",
       "       [ 9.81702618e+00,  8.09694592e-01,  1.18942951e+01],\n",
       "       [ 8.41459388e+00,  3.23877883e+00,  1.18942951e+01],\n",
       "       [ 7.01216165e+00,  8.09694679e-01,  1.18942952e+01],\n",
       "       [ 1.40243231e+01,  8.09694690e+00,  4.97619202e+00],\n",
       "       [ 1.26218909e+01,  5.66786276e+00,  4.97619191e+00],\n",
       "       [ 1.12194585e+01,  8.09694671e+00,  4.97619212e+00],\n",
       "       [ 9.81702623e+00,  5.66786277e+00,  4.97619198e+00],\n",
       "       [ 1.12194584e+01,  6.47755744e+00,  7.29292151e+00],\n",
       "       [ 1.26218908e+01,  8.90664138e+00,  7.29292131e+00],\n",
       "       [ 1.40243231e+01,  6.47755745e+00,  7.29292128e+00],\n",
       "       [ 1.54267554e+01,  8.90664163e+00,  7.29292129e+00],\n",
       "       [ 1.40243232e+01,  4.85816792e+00,  9.57756593e+00],\n",
       "       [ 1.54267556e+01,  7.28725213e+00,  9.57756578e+00],\n",
       "       [ 1.12194586e+01,  4.85816802e+00,  9.57756586e+00],\n",
       "       [ 1.26218909e+01,  7.28725220e+00,  9.57756587e+00],\n",
       "       [ 1.40243233e+01,  8.09694682e+00,  1.18942951e+01],\n",
       "       [ 1.26218910e+01,  5.66786280e+00,  1.18942951e+01],\n",
       "       [ 1.12194584e+01,  8.09694678e+00,  1.18942951e+01],\n",
       "       [ 9.81702621e+00,  5.66786275e+00,  1.18942952e+01]])"
      ]
     },
     "execution_count": 18,
     "metadata": {},
     "output_type": "execute_result"
    }
   ],
   "source": [
    "slab.get_positions()"
   ]
  },
  {
   "cell_type": "markdown",
   "id": "a2efc78c-d695-4eeb-ab06-ee896d2dc5f9",
   "metadata": {},
   "source": [
    "などといったように確認することができます。  \n",
    "PFPの基本機能であるEnergyやFoeceの出力も以下のように実行できます。"
   ]
  },
  {
   "cell_type": "code",
   "execution_count": 19,
   "id": "df8671fa-03a1-43de-8929-7bc9868fcd89",
   "metadata": {},
   "outputs": [
    {
     "data": {
      "text/plain": [
       "array([[-2.38140830e-06,  1.04891597e-07, -2.07121952e-04],\n",
       "       [ 5.92266702e-07, -5.41274815e-07, -2.09155518e-04],\n",
       "       [ 6.84755685e-07, -4.12677322e-07, -2.11117304e-04],\n",
       "       [-1.81777202e-06, -9.81615633e-07, -2.08890544e-04],\n",
       "       [-7.68062703e-07,  5.92891530e-07,  2.17351987e-03],\n",
       "       [ 1.23697588e-06, -3.81050993e-07,  2.17122232e-03],\n",
       "       [-1.77165536e-07,  3.76907279e-07,  2.16961130e-03],\n",
       "       [-1.94242498e-06,  1.99529977e-07,  2.16849246e-03],\n",
       "       [ 1.43384318e-06, -7.42046569e-07, -2.17184330e-03],\n",
       "       [ 4.53866009e-08, -4.16227794e-07, -2.16973063e-03],\n",
       "       [-1.43176116e-06,  2.65776664e-06, -2.17215040e-03],\n",
       "       [-1.49513644e-07, -1.97905899e-06, -2.17113132e-03],\n",
       "       [-1.04834335e-06,  5.54025142e-07,  2.09257120e-04],\n",
       "       [-5.56879546e-07,  1.70069215e-07,  2.10112610e-04],\n",
       "       [ 1.38841201e-06, -1.19112814e-06,  2.10153076e-04],\n",
       "       [ 1.26528232e-06,  8.75365356e-07,  2.09462801e-04],\n",
       "       [ 3.84625010e-07,  2.64397739e-06, -2.09357514e-04],\n",
       "       [ 1.31624861e-06, -1.20591071e-06, -2.10243283e-04],\n",
       "       [-2.73106781e-06,  2.25440647e-06, -2.08673222e-04],\n",
       "       [ 4.41354935e-07,  1.06036045e-06, -2.09481592e-04],\n",
       "       [-8.20492899e-07,  6.25825424e-07,  2.17129485e-03],\n",
       "       [ 1.89776783e-07,  7.29554436e-08,  2.17133068e-03],\n",
       "       [-7.60950894e-07,  4.59448011e-07,  2.17301490e-03],\n",
       "       [-5.01338635e-07, -6.90470489e-07,  2.17014596e-03],\n",
       "       [ 4.76475055e-07,  1.93098967e-06, -2.17086936e-03],\n",
       "       [ 3.07407646e-07, -1.27119497e-06, -2.17195009e-03],\n",
       "       [-1.15948672e-06,  2.74709012e-07, -2.17086334e-03],\n",
       "       [ 2.00841648e-06, -7.06596964e-07, -2.16957020e-03],\n",
       "       [-6.03603180e-07, -2.97519454e-06,  2.09859693e-04],\n",
       "       [ 4.38414611e-07,  3.21937692e-06,  2.08726460e-04],\n",
       "       [ 1.24483900e-07, -1.70889805e-06,  2.10253798e-04],\n",
       "       [ 5.14529246e-07, -5.25244253e-07,  2.08196026e-04],\n",
       "       [-2.91864385e-06, -1.55902973e-07, -2.09989773e-04],\n",
       "       [ 3.41419738e-06,  3.22222028e-06, -2.09989490e-04],\n",
       "       [ 2.86226855e-06, -1.74238162e-07, -2.09667393e-04],\n",
       "       [-6.06846306e-07,  1.26448784e-06, -2.07725638e-04],\n",
       "       [-6.55615526e-07, -9.04409301e-07,  2.17099200e-03],\n",
       "       [ 2.27309396e-07, -2.79505550e-07,  2.17007218e-03],\n",
       "       [-4.90850464e-07, -1.33286132e-06,  2.16966435e-03],\n",
       "       [ 1.63940419e-06,  4.98948857e-07,  2.17337533e-03],\n",
       "       [ 1.32039996e-06, -1.90703394e-06, -2.17216870e-03],\n",
       "       [ 1.36762580e-06, -2.09685839e-06, -2.17219737e-03],\n",
       "       [-2.45717833e-06,  2.33658783e-06, -2.17343184e-03],\n",
       "       [-1.01818296e-06,  1.21336584e-06, -2.17094114e-03],\n",
       "       [ 4.49150670e-07, -4.23636984e-08,  2.10102507e-04],\n",
       "       [ 4.42717130e-07,  3.65784059e-06,  2.11502947e-04],\n",
       "       [-7.95238443e-08, -2.32096360e-06,  2.09903341e-04],\n",
       "       [-6.67923334e-07, -2.59123928e-06,  2.07782386e-04],\n",
       "       [-4.43239789e-08, -1.83496311e-06, -2.09119865e-04],\n",
       "       [-2.21444453e-06,  1.24857294e-06, -2.09458989e-04],\n",
       "       [ 1.48710866e-06,  1.14455601e-07, -2.09828807e-04],\n",
       "       [ 1.21742232e-06, -1.69743931e-06, -2.08988083e-04],\n",
       "       [ 1.90133554e-06, -1.81940010e-06,  2.17038405e-03],\n",
       "       [-7.82169551e-07,  1.04610997e-06,  2.17203253e-03],\n",
       "       [ 4.87160620e-07, -1.21190096e-06,  2.17309541e-03],\n",
       "       [ 1.22859308e-06, -2.41554254e-06,  2.17096092e-03],\n",
       "       [ 8.97526979e-07,  3.94956693e-06, -2.17341136e-03],\n",
       "       [ 1.95351869e-07, -1.96529801e-06, -2.17250646e-03],\n",
       "       [-9.25827808e-07,  3.20478820e-06, -2.17043656e-03],\n",
       "       [-1.50479848e-06, -1.45933768e-06, -2.17107902e-03],\n",
       "       [-2.91549717e-06, -2.73707975e-06,  2.10854810e-04],\n",
       "       [-2.59316949e-06,  1.42667193e-06,  2.09214649e-04],\n",
       "       [ 3.54882091e-06,  4.42917802e-07,  2.10294732e-04],\n",
       "       [ 1.19021929e-06,  9.74897762e-07,  2.08203995e-04]])"
      ]
     },
     "execution_count": 19,
     "metadata": {},
     "output_type": "execute_result"
    }
   ],
   "source": [
    "slab.get_forces() #Constraintが適用されている原子は力が0と出力される"
   ]
  },
  {
   "cell_type": "markdown",
   "id": "0f910299-6bf7-4a85-aa90-b3f9f584cf4e",
   "metadata": {},
   "source": [
    "詳細は[ASE公式ドキュメント](https://wiki.fysik.dtu.dk/ase/ase/atoms.html#module-ase.atoms)をご参照ください。"
   ]
  }
 ],
 "metadata": {
  "kernelspec": {
   "display_name": "Python 3.7",
   "language": "python",
   "name": "python37"
  },
  "language_info": {
   "codemirror_mode": {
    "name": "ipython",
    "version": 3
   },
   "file_extension": ".py",
   "mimetype": "text/x-python",
   "name": "python",
   "nbconvert_exporter": "python",
   "pygments_lexer": "ipython3",
   "version": "3.7.13"
  }
 },
 "nbformat": 4,
 "nbformat_minor": 5
}
